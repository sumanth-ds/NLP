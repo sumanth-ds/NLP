{
 "cells": [
  {
   "cell_type": "code",
   "execution_count": 4,
   "id": "91911f33-9c82-4799-a24d-e83db0dc65cb",
   "metadata": {},
   "outputs": [],
   "source": [
    "# Bag of words\n",
    "from sklearn.feature_extraction.text import CountVectorizer\n"
   ]
  },
  {
   "cell_type": "code",
   "execution_count": 6,
   "id": "238b670d-4942-44a6-9f2a-da34f66fa286",
   "metadata": {},
   "outputs": [
    {
     "name": "stdout",
     "output_type": "stream",
     "text": [
      "Shape : (3, 8)\n",
      "type of Numerical Representation:  <class 'scipy.sparse._csr.csr_matrix'>\n",
      "Vocabulary Learned ['123' 'any' 'is' 'number' 'symbols' 'test' 'this' 'with']\n"
     ]
    }
   ],
   "source": [
    "text = ['This is test', 'with number 123', 'any symbols #!']\n",
    "\n",
    "# initialize the object\n",
    "\n",
    "vectorizer = CountVectorizer()\n",
    "\n",
    "num_rep = vectorizer.fit_transform(text)\n",
    "\n",
    "print('Shape :',num_rep.shape)\n",
    "print('type of Numerical Representation: ', type(num_rep))\n",
    "print('Vocabulary Learned', vectorizer.get_feature_names_out())"
   ]
  },
  {
   "cell_type": "code",
   "execution_count": 8,
   "id": "53dd850e-e28a-4bcf-86fb-772d9ff47341",
   "metadata": {},
   "outputs": [
    {
     "name": "stdout",
     "output_type": "stream",
     "text": [
      "[[0 0 1 0 0 1 1 0]\n",
      " [1 0 0 1 0 0 0 1]\n",
      " [0 1 0 0 1 0 0 0]]\n"
     ]
    }
   ],
   "source": [
    "print(num_rep.toarray())"
   ]
  },
  {
   "cell_type": "code",
   "execution_count": 12,
   "id": "1215a6f4-9722-4200-afbe-ebf6ecee1b3f",
   "metadata": {},
   "outputs": [
    {
     "data": {
      "text/plain": [
       "{'this': 6,\n",
       " 'is': 2,\n",
       " 'test': 5,\n",
       " 'with': 7,\n",
       " 'number': 3,\n",
       " '123': 0,\n",
       " 'any': 1,\n",
       " 'symbols': 4}"
      ]
     },
     "execution_count": 12,
     "metadata": {},
     "output_type": "execute_result"
    }
   ],
   "source": [
    "vectorizer.vocabulary_"
   ]
  },
  {
   "cell_type": "code",
   "execution_count": 14,
   "id": "7eb818ed-68f0-4697-9633-cd259392c7a0",
   "metadata": {},
   "outputs": [
    {
     "name": "stdout",
     "output_type": "stream",
     "text": [
      "Shape : (3, 15)\n",
      "type of Numerical Representation:  <class 'scipy.sparse._csr.csr_matrix'>\n",
      "Vocabulary Learned ['123' 'any' 'any symbols' 'is' 'is test' 'number' 'number 123' 'symbols'\n",
      " 'test' 'this' 'this is' 'this is test' 'with' 'with number'\n",
      " 'with number 123']\n",
      "[[0 0 0 1 1 0 0 0 1 1 1 1 0 0 0]\n",
      " [1 0 0 0 0 1 1 0 0 0 0 0 1 1 1]\n",
      " [0 1 1 0 0 0 0 1 0 0 0 0 0 0 0]]\n",
      "{'this': 9, 'is': 3, 'test': 8, 'this is': 10, 'is test': 4, 'this is test': 11, 'with': 12, 'number': 5, '123': 0, 'with number': 13, 'number 123': 6, 'with number 123': 14, 'any': 1, 'symbols': 7, 'any symbols': 2}\n"
     ]
    }
   ],
   "source": [
    "text = ['This is test', 'with number 123', 'any symbols #!']\n",
    "\n",
    "# initialize the object\n",
    "\n",
    "vectorizer = CountVectorizer(ngram_range=(1,5))\n",
    "\n",
    "num_rep = vectorizer.fit_transform(text)\n",
    "\n",
    "print('Shape :',num_rep.shape)\n",
    "print('type of Numerical Representation: ', type(num_rep))\n",
    "print('Vocabulary Learned', vectorizer.get_feature_names_out())\n",
    "print(num_rep.toarray())\n",
    "print(vectorizer.vocabulary_)\n",
    "\n"
   ]
  },
  {
   "cell_type": "code",
   "execution_count": 16,
   "id": "c1a28f86-08d1-43b2-9d2f-66f7ce550a62",
   "metadata": {},
   "outputs": [
    {
     "name": "stdout",
     "output_type": "stream",
     "text": [
      "Shape : (3, 15)\n",
      "type of Numerical Representation:  <class 'scipy.sparse._csr.csr_matrix'>\n",
      "Vocabulary Learned ['123' 'any' 'any symbols' 'is' 'is test' 'number' 'number 123' 'symbols'\n",
      " 'test' 'this' 'this is' 'this is test' 'with' 'with number'\n",
      " 'with number 123']\n",
      "[[0.         0.         0.         0.40824829 0.40824829 0.\n",
      "  0.         0.         0.40824829 0.40824829 0.40824829 0.40824829\n",
      "  0.         0.         0.        ]\n",
      " [0.40824829 0.         0.         0.         0.         0.40824829\n",
      "  0.40824829 0.         0.         0.         0.         0.\n",
      "  0.40824829 0.40824829 0.40824829]\n",
      " [0.         0.57735027 0.57735027 0.         0.         0.\n",
      "  0.         0.57735027 0.         0.         0.         0.\n",
      "  0.         0.         0.        ]]\n",
      "{'this': 9, 'is': 3, 'test': 8, 'this is': 10, 'is test': 4, 'this is test': 11, 'with': 12, 'number': 5, '123': 0, 'with number': 13, 'number 123': 6, 'with number 123': 14, 'any': 1, 'symbols': 7, 'any symbols': 2}\n"
     ]
    }
   ],
   "source": [
    "#TF-IDF\n",
    "\n",
    "from sklearn.feature_extraction.text import TfidfVectorizer\n",
    "text = ['This is test', 'with number 123', 'any symbols #!']\n",
    "\n",
    "# initialize the object\n",
    "\n",
    "vectorizer = TfidfVectorizer(ngram_range=(1,5))\n",
    "\n",
    "num_rep = vectorizer.fit_transform(text)\n",
    "\n",
    "print('Shape :',num_rep.shape)\n",
    "print('type of Numerical Representation: ', type(num_rep))\n",
    "print('Vocabulary Learned', vectorizer.get_feature_names_out())\n",
    "print(num_rep.toarray())\n",
    "print(vectorizer.vocabulary_)\n",
    "\n",
    "\n"
   ]
  },
  {
   "cell_type": "code",
   "execution_count": null,
   "id": "93e40877-fecf-44b3-bf02-d0cc34afac14",
   "metadata": {},
   "outputs": [],
   "source": []
  }
 ],
 "metadata": {
  "kernelspec": {
   "display_name": "Python 3 (ipykernel)",
   "language": "python",
   "name": "python3"
  },
  "language_info": {
   "codemirror_mode": {
    "name": "ipython",
    "version": 3
   },
   "file_extension": ".py",
   "mimetype": "text/x-python",
   "name": "python",
   "nbconvert_exporter": "python",
   "pygments_lexer": "ipython3",
   "version": "3.12.4"
  }
 },
 "nbformat": 4,
 "nbformat_minor": 5
}
